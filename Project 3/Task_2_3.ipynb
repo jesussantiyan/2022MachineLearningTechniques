{
  "cells": [
    {
      "cell_type": "code",
      "execution_count": 48,
      "metadata": {
        "colab": {
          "base_uri": "https://localhost:8080/"
        },
        "id": "Rxu3WMuL79zY",
        "outputId": "c66456c3-96e9-4ae0-9b94-a2e4f4e37329"
      },
      "outputs": [
        {
          "name": "stdout",
          "output_type": "stream",
          "text": [
            "--2023-01-23 18:50:29--  https://raw.githubusercontent.com/jesussantiyan/2022MachineLearningTechniques/main/Project%203/products.csv\n",
            "Resolving raw.githubusercontent.com (raw.githubusercontent.com)... 185.199.108.133, 185.199.109.133, 185.199.110.133, ...\n",
            "Connecting to raw.githubusercontent.com (raw.githubusercontent.com)|185.199.108.133|:443... connected.\n",
            "HTTP request sent, awaiting response... 200 OK\n",
            "Length: 25502609 (24M) [text/plain]\n",
            "Saving to: ‘products.csv’\n",
            "\n",
            "products.csv        100%[===================>]  24.32M  --.-KB/s    in 0.09s   \n",
            "\n",
            "2023-01-23 18:50:31 (270 MB/s) - ‘products.csv’ saved [25502609/25502609]\n",
            "\n"
          ]
        }
      ],
      "source": [
        "!wget https://raw.githubusercontent.com/jesussantiyan/2022MachineLearningTechniques/main/Project%203/products.csv"
      ]
    },
    {
      "cell_type": "code",
      "execution_count": 87,
      "metadata": {
        "colab": {
          "base_uri": "https://localhost:8080/"
        },
        "id": "k3slEUo0_2z_",
        "outputId": "06cc86f8-26dd-437b-c4bd-cb9e1d60026e"
      },
      "outputs": [
        {
          "name": "stderr",
          "output_type": "stream",
          "text": [
            "/usr/local/lib/python3.8/dist-packages/IPython/core/interactiveshell.py:3326: DtypeWarning: Columns (10,11,12,13,14,15,16) have mixed types.Specify dtype option on import or set low_memory=False.\n",
            "  exec(code_obj, self.user_global_ns, self.user_ns)\n"
          ]
        }
      ],
      "source": [
        "import pandas as pd\n",
        "import re\n",
        "\n",
        "\n",
        "df = pd.read_csv(\"products.csv\", sep=';',encoding='latin1')\n",
        "\n",
        "df.drop(['Unnamed: 10','Unnamed: 11','Unnamed: 12','Unnamed: 13','Unnamed: 14','Unnamed: 15','Unnamed: 16'], inplace = True,axis=1)\n",
        "df.head()\n",
        "df2 = df[['Summary','Text']]\n",
        "df['Summary+Text'] = df[\"Summary\"].str.cat(df[\"Text\"], sep =' ')\n",
        "df.head()\n",
        "df.dropna(inplace = True)\n",
        "df = df.apply(lambda x: x.str.lower() if(x.dtype == 'object') else x)\n",
        "\n"
      ]
    },
    {
      "cell_type": "code",
      "execution_count": 3,
      "metadata": {
        "colab": {
          "base_uri": "https://localhost:8080/"
        },
        "id": "-4lJn4efIi1g",
        "outputId": "4a9e487a-8b06-4167-abd0-8d5c0deaba9f"
      },
      "outputs": [
        {
          "name": "stderr",
          "output_type": "stream",
          "text": [
            "[nltk_data] Downloading collection 'popular'\n",
            "[nltk_data]    | \n",
            "[nltk_data]    | Downloading package cmudict to /root/nltk_data...\n",
            "[nltk_data]    |   Package cmudict is already up-to-date!\n",
            "[nltk_data]    | Downloading package gazetteers to /root/nltk_data...\n",
            "[nltk_data]    |   Package gazetteers is already up-to-date!\n",
            "[nltk_data]    | Downloading package genesis to /root/nltk_data...\n",
            "[nltk_data]    |   Package genesis is already up-to-date!\n",
            "[nltk_data]    | Downloading package gutenberg to /root/nltk_data...\n",
            "[nltk_data]    |   Package gutenberg is already up-to-date!\n",
            "[nltk_data]    | Downloading package inaugural to /root/nltk_data...\n",
            "[nltk_data]    |   Package inaugural is already up-to-date!\n",
            "[nltk_data]    | Downloading package movie_reviews to\n",
            "[nltk_data]    |     /root/nltk_data...\n",
            "[nltk_data]    |   Package movie_reviews is already up-to-date!\n",
            "[nltk_data]    | Downloading package names to /root/nltk_data...\n",
            "[nltk_data]    |   Package names is already up-to-date!\n",
            "[nltk_data]    | Downloading package shakespeare to /root/nltk_data...\n",
            "[nltk_data]    |   Package shakespeare is already up-to-date!\n",
            "[nltk_data]    | Downloading package stopwords to /root/nltk_data...\n",
            "[nltk_data]    |   Package stopwords is already up-to-date!\n",
            "[nltk_data]    | Downloading package treebank to /root/nltk_data...\n",
            "[nltk_data]    |   Package treebank is already up-to-date!\n",
            "[nltk_data]    | Downloading package twitter_samples to\n",
            "[nltk_data]    |     /root/nltk_data...\n",
            "[nltk_data]    |   Package twitter_samples is already up-to-date!\n",
            "[nltk_data]    | Downloading package omw to /root/nltk_data...\n",
            "[nltk_data]    |   Package omw is already up-to-date!\n",
            "[nltk_data]    | Downloading package omw-1.4 to /root/nltk_data...\n",
            "[nltk_data]    |   Package omw-1.4 is already up-to-date!\n",
            "[nltk_data]    | Downloading package wordnet to /root/nltk_data...\n",
            "[nltk_data]    |   Package wordnet is already up-to-date!\n",
            "[nltk_data]    | Downloading package wordnet2021 to /root/nltk_data...\n",
            "[nltk_data]    |   Package wordnet2021 is already up-to-date!\n",
            "[nltk_data]    | Downloading package wordnet31 to /root/nltk_data...\n",
            "[nltk_data]    |   Package wordnet31 is already up-to-date!\n",
            "[nltk_data]    | Downloading package wordnet_ic to /root/nltk_data...\n",
            "[nltk_data]    |   Package wordnet_ic is already up-to-date!\n",
            "[nltk_data]    | Downloading package words to /root/nltk_data...\n",
            "[nltk_data]    |   Package words is already up-to-date!\n",
            "[nltk_data]    | Downloading package maxent_ne_chunker to\n",
            "[nltk_data]    |     /root/nltk_data...\n",
            "[nltk_data]    |   Package maxent_ne_chunker is already up-to-date!\n",
            "[nltk_data]    | Downloading package punkt to /root/nltk_data...\n",
            "[nltk_data]    |   Package punkt is already up-to-date!\n",
            "[nltk_data]    | Downloading package snowball_data to\n",
            "[nltk_data]    |     /root/nltk_data...\n",
            "[nltk_data]    |   Package snowball_data is already up-to-date!\n",
            "[nltk_data]    | Downloading package averaged_perceptron_tagger to\n",
            "[nltk_data]    |     /root/nltk_data...\n",
            "[nltk_data]    |   Package averaged_perceptron_tagger is already up-\n",
            "[nltk_data]    |       to-date!\n",
            "[nltk_data]    | \n",
            "[nltk_data]  Done downloading collection popular\n",
            "[nltk_data] Downloading package vader_lexicon to /root/nltk_data...\n",
            "[nltk_data]   Package vader_lexicon is already up-to-date!\n",
            "[nltk_data] Error loading twython: Package 'twython' not found in\n",
            "[nltk_data]     index\n"
          ]
        },
        {
          "data": {
            "text/plain": [
              "False"
            ]
          },
          "execution_count": 3,
          "metadata": {},
          "output_type": "execute_result"
        }
      ],
      "source": [
        "import nltk\n",
        "nltk.download(\"popular\")\n"
      ]
    },
    {
      "cell_type": "code",
      "execution_count": 88,
      "metadata": {
        "id": "-fZ91-QWu3pA"
      },
      "outputs": [],
      "source": [
        "\n",
        "from nltk.stem import WordNetLemmatizer\n",
        "\n",
        "\n",
        "#Lemmatization\n",
        "lemmatizer = WordNetLemmatizer()\n",
        "lem_all = []\n",
        "for comment in df['Summary+Text'].values:\n",
        "  lem_comment = []\n",
        "  for token in comment.split():\n",
        "    lem_comment.append(lemmatizer.lemmatize(token, pos='v'))\n",
        "  lem_all.append(' '.join(lem_comment))\n",
        "\n",
        "df['Summary+Text'] = lem_all"
      ]
    },
    {
      "cell_type": "code",
      "execution_count": 89,
      "metadata": {
        "id": "AlMIHgYndDjZ"
      },
      "outputs": [],
      "source": [
        "#contractions \n",
        "\n",
        "contractions_list = [\n",
        "    (r'ain\\'t','am not'), (r'aren\\'t','are not'),(r'can\\'t','cannot'),(r'could\\'ve','could have'),(r'couldn\\'t','could not'),(r'didn\\'t','did not'),\n",
        "    (r'doesn\\'t','does not'),(r'don\\'t','do not'),(r'hadn\\'t','had not'),(r'hasn\\'t','has not'),(r'haven\\'t','have not'),(r'he\\'d','he would'),\n",
        "    (r'he\\'ll','he will'),(r'he\\'s','he is'),(r'how\\'d','how did'),(r'how\\'ll','how will'),(r'how\\'s','how is'),(r'I\\'d','I would'),(r'I\\'ll','I will'),\n",
        "    (r'I\\'m','I am'),(r'I\\'ve','I have'),(r'isn\\'t','is not'),(r'it\\'s','it is'),(r'let\\'s','let us'),(r'might\\'ve','might have'),(r'mightn\\'t','might not'),\n",
        "    (r'must\\'ve','must have'),(r'mustn\\'t','must not'),(r'needn\\'t','need not'),(r'o\\'clock','of the clock'),(r'shan\\'t','shall not'),(r'she\\'d','she would'),\n",
        "    (r'she\\'ll','she will'),(r'she\\'s','she is'),(r'should\\'ve','should have'),(r'shouldn\\'t','should not'),(r'so\\'s','so is'),(r'that\\'s','that is'),\n",
        "    (r'there\\'s','there is'),(r'they\\'d','they would'),(r'they\\'ll','they will'),(r'they\\'re','they are'),(r'they\\'ve','they have'),(r'wasn\\'t','was not'),\n",
        "    (r'we\\'d','we would'),(r'we\\'ll','we will'),(r'we\\'re','we are'),(r'we\\'ve','we have'),(r'weren\\'t','were not'),(r'what\\'ll','what will'),\n",
        "    (r'what\\'re','what are'),(r'what\\'s','what is'),(r'what\\'ve','what have'),(r'when\\'s','when is'),(r'when\\'ve','when have'),(r'where\\'d','where did'),\n",
        "    (r'where\\'s','where is'),(r'where\\'ve','where have'),(r'who\\'d','who would'),(r'who\\'ll','who will'),(r'who\\'s','who is'),(r'who\\'ve','who have'),\n",
        "    (r'why\\'s','why is'),(r'why\\'ve','why have'),(r'will\\'ve','will have'),(r'won\\'t','will not'),(r'would\\'ve','would have'),(r'wouldn\\'t','would not'),\n",
        "    (r'y\\'all','you all'),(r'you\\'d','you would'),(r'you\\'ll','you will'),(r'you\\'re','you are'),(r'you\\'ve','you have')\n",
        "]\n",
        "\n",
        "contractions_list = [(re.compile(regex), not_contracted) for (regex, not_contracted) in contractions_list]\n",
        "\n",
        "all = []\n",
        "\n",
        "for comment in df['Summary+Text']:\n",
        "  z = comment \n",
        "  \n",
        "  for (pattern, not_contracted) in contractions_list: \n",
        "    \n",
        "    (s, count) = re.subn(pattern, not_contracted, comment ,count = 0)\n",
        "    if s is not comment:       \n",
        "        z = s\n",
        "        comment = s\n",
        "           \n",
        " \n",
        "  all.append(z)\n",
        "  \n",
        "\n",
        "df['Summary+Text'] = all"
      ]
    },
    {
      "cell_type": "code",
      "execution_count": 90,
      "metadata": {
        "id": "zyvg6YkdL5HV"
      },
      "outputs": [],
      "source": [
        "def Eli_eliminar_pal_contiguas(frase):\n",
        "    e = []\n",
        "    previous_word = \"\"\n",
        "    for word in frase.split():\n",
        "        if word != previous_word:\n",
        "            e.append(word)\n",
        "        previous_word = word\n",
        "    return \" \".join(e)\n",
        "  \n",
        "comment_all = []\n",
        "for comment in df['Summary+Text']:\n",
        "  comment_all.append(Eli_eliminar_pal_contiguas(comment))\n",
        "\n",
        "df['Summary+Text'] = comment_all\n",
        " \n",
        "    "
      ]
    },
    {
      "cell_type": "code",
      "execution_count": 91,
      "metadata": {
        "id": "CbC2orfztngD"
      },
      "outputs": [],
      "source": [
        "def deEmoji(text):\n",
        "    emoticons_list = [':)', ':(', ':D', ':P', ';)',':()',]\n",
        "    for emoticon in emoticons_list:\n",
        "        text = text.replace(emoticon, \"\")\n",
        "    return text\n",
        "\n",
        "\n",
        "\n",
        "comment_all = []\n",
        "for comment in df['Summary+Text']:\n",
        "\n",
        "  comment_all.append(deEmoji(comment))\n",
        "\n",
        "df['Summary+Text'] = comment_all\n"
      ]
    },
    {
      "cell_type": "code",
      "execution_count": 92,
      "metadata": {
        "id": "G2ZO3Mumtu7R"
      },
      "outputs": [],
      "source": [
        "df = df.applymap(lambda x: re.sub(r\"[!_$%&/()=^*¡@]\", \"\", x) if type(x) == str else x)"
      ]
    },
    {
      "cell_type": "markdown",
      "metadata": {
        "id": "LT-z7SHnUpG8"
      },
      "source": [
        "# 3. VECTORIZE\n"
      ]
    },
    {
      "cell_type": "markdown",
      "metadata": {
        "id": "SWt4fizEarMg"
      },
      "source": [
        "## 3.1. TFIDF"
      ]
    },
    {
      "cell_type": "code",
      "execution_count": 93,
      "metadata": {
        "colab": {
          "base_uri": "https://localhost:8080/"
        },
        "id": "tN6cq2UmTdNl",
        "outputId": "2b6bd9fd-579b-4987-eef4-c494591d3838"
      },
      "outputs": [
        {
          "name": "stdout",
          "output_type": "stream",
          "text": [
            "(50441, 40690)\n"
          ]
        }
      ],
      "source": [
        "from sklearn.feature_extraction.text import TfidfVectorizer\n",
        "vectorizer = TfidfVectorizer(use_idf=True, smooth_idf=True)\n",
        "tfidf = vectorizer.fit_transform(df['Summary+Text'])\n",
        "\n",
        "print(tfidf.shape)"
      ]
    },
    {
      "cell_type": "markdown",
      "metadata": {
        "id": "1vV8no21axp1"
      },
      "source": [
        "## 3.2. NGRAM"
      ]
    },
    {
      "cell_type": "code",
      "execution_count": 94,
      "metadata": {
        "colab": {
          "base_uri": "https://localhost:8080/"
        },
        "id": "fccglAK0vPme",
        "outputId": "0780ca0e-a338-47af-8278-bd8fcd164b29"
      },
      "outputs": [
        {
          "name": "stdout",
          "output_type": "stream",
          "text": [
            "(50441, 2603314)\n"
          ]
        }
      ],
      "source": [
        "vectorizer = TfidfVectorizer(ngram_range=(1,3))\n",
        "ngram = vectorizer.fit_transform(df['Summary+Text'])\n",
        "\n",
        "print(ngram.shape)"
      ]
    },
    {
      "cell_type": "markdown",
      "metadata": {
        "id": "iJZldH9BazRy"
      },
      "source": [
        "\n",
        "## 3.3. POS tagging\n",
        "\n"
      ]
    },
    {
      "cell_type": "code",
      "execution_count": 78,
      "metadata": {
        "colab": {
          "base_uri": "https://localhost:8080/",
          "height": 235
        },
        "id": "shZlj5UJvTk0",
        "outputId": "13255ed2-01e6-477a-96a3-68289b45055b"
      },
      "outputs": [
        {
          "name": "stderr",
          "output_type": "stream",
          "text": [
            "[nltk_data] Downloading package brown to /root/nltk_data...\n",
            "[nltk_data]   Package brown is already up-to-date!\n"
          ]
        },
        {
          "ename": "AttributeError",
          "evalue": "ignored",
          "output_type": "error",
          "traceback": [
            "\u001b[0;31m---------------------------------------------------------------------------\u001b[0m",
            "\u001b[0;31mAttributeError\u001b[0m                            Traceback (most recent call last)",
            "\u001b[0;32m<ipython-input-78-8accfb40e322>\u001b[0m in \u001b[0;36m<module>\u001b[0;34m\u001b[0m\n\u001b[1;32m     21\u001b[0m \u001b[0mpos_tag2\u001b[0m \u001b[0;34m=\u001b[0m \u001b[0mvectorizer\u001b[0m\u001b[0;34m.\u001b[0m\u001b[0mfit_transform\u001b[0m\u001b[0;34m(\u001b[0m\u001b[0mpos_tag\u001b[0m\u001b[0;34m)\u001b[0m\u001b[0;34m\u001b[0m\u001b[0;34m\u001b[0m\u001b[0m\n\u001b[1;32m     22\u001b[0m \u001b[0;34m\u001b[0m\u001b[0m\n\u001b[0;32m---> 23\u001b[0;31m \u001b[0mprint\u001b[0m\u001b[0;34m(\u001b[0m\u001b[0mpos_tag\u001b[0m\u001b[0;34m.\u001b[0m\u001b[0mshape\u001b[0m\u001b[0;34m)\u001b[0m\u001b[0;34m\u001b[0m\u001b[0;34m\u001b[0m\u001b[0m\n\u001b[0m",
            "\u001b[0;31mAttributeError\u001b[0m: 'list' object has no attribute 'shape'"
          ]
        }
      ],
      "source": [
        "nltk.download(\"brown\")\n",
        "from nltk import tokenize, tag\n",
        "from nltk.corpus import brown\n",
        "train_sents = brown.tagged_sents(categories=\"reviews\")\n",
        "unigram_tagger = tag.UnigramTagger(train_sents)\n",
        "\n",
        "pos_all = []\n",
        "pos_tag = []\n",
        "for c in df['Summary+Text'].values:\n",
        "  tokens = list(tokenize.word_tokenize(c))\n",
        "  t = list(unigram_tagger.tag(tokens))\n",
        "  comment = []\n",
        "  for e in t:\n",
        "    if(e[1] != None):\n",
        "      comment.append(e[1])\n",
        "    else:\n",
        "      comment.append(\"None\")\n",
        "  pos_all = \" \".join(comment)\n",
        "  pos_tag.append(pos_all)\n",
        "vectorizer = TfidfVectorizer(ngram_range=(1,3))\n",
        "pos_tag2 = vectorizer.fit_transform(pos_tag)\n",
        "\n",
        "print(pos_tag)"
      ]
    },
    {
      "cell_type": "code",
      "execution_count": 95,
      "metadata": {
        "id": "uCi1tFh6FXww"
      },
      "outputs": [],
      "source": [
        "from nltk.tokenize import word_tokenize\n",
        "df['tokens'] = [word_tokenize(sentence) for sentence in df['Summary+Text']]\n",
        "df['tokens']\n",
        "tagged = df['tokens'].apply(nltk.pos_tag)\n",
        "pos_tag = []\n",
        "sentence = ''\n",
        "for comment in tagged:\n",
        "  line = ''\n",
        "  sentence = ''\n",
        "  for word in comment:\n",
        "    line = f'{word[0]}:{word[1]}'\n",
        "    sentence += ' '+ ''.join(line)\n",
        "  pos_tag.append(sentence)\n",
        "df['post_tag'] = pos_tag\n",
        "vectorizer = TfidfVectorizer(ngram_range=(1,3))\n",
        "pos_tag = vectorizer.fit_transform(pos_tag)"
      ]
    },
    {
      "cell_type": "markdown",
      "metadata": {
        "id": "mMidxtr0X5rY"
      },
      "source": [
        "# 4. SELECTION"
      ]
    },
    {
      "cell_type": "code",
      "execution_count": 96,
      "metadata": {
        "id": "LpSVeQxbVvgl"
      },
      "outputs": [],
      "source": [
        "from sklearn.feature_selection import SelectKBest, chi2\n",
        "def selection(x):\n",
        "  X_clf=SelectKBest(score_func=chi2,k=int(x.shape[1]*0.3)).fit_transform(x,df['Score'])\n",
        "  return X_clf"
      ]
    },
    {
      "cell_type": "markdown",
      "metadata": {
        "id": "kObXTRSc1Hh5"
      },
      "source": [
        "## 4.1. TFIDF"
      ]
    },
    {
      "cell_type": "code",
      "execution_count": 13,
      "metadata": {
        "colab": {
          "base_uri": "https://localhost:8080/"
        },
        "id": "JHhd5YpQbddW",
        "outputId": "ac5f26a0-28f2-4f1b-deb0-efdaee34bc7b"
      },
      "outputs": [
        {
          "name": "stdout",
          "output_type": "stream",
          "text": [
            "(50441, 12207)\n"
          ]
        }
      ],
      "source": [
        "tfidf = selection(tfidf)\n",
        "print(tfidf.shape)"
      ]
    },
    {
      "cell_type": "markdown",
      "metadata": {
        "id": "KJcg3bCJ13gP"
      },
      "source": [
        "## 4.2. NGRAM"
      ]
    },
    {
      "cell_type": "code",
      "execution_count": 14,
      "metadata": {
        "colab": {
          "base_uri": "https://localhost:8080/"
        },
        "id": "3yyZyGpulxtg",
        "outputId": "04d46216-d822-47b7-fc55-607348f926b2"
      },
      "outputs": [
        {
          "name": "stdout",
          "output_type": "stream",
          "text": [
            "(50441, 780994)\n"
          ]
        }
      ],
      "source": [
        "ngram = selection(ngram)\n",
        "print(ngram.shape)"
      ]
    },
    {
      "cell_type": "markdown",
      "metadata": {
        "id": "Yb_H7KKsDYDY"
      },
      "source": [
        "## 4.3. POS tagging"
      ]
    },
    {
      "cell_type": "code",
      "execution_count": 97,
      "metadata": {
        "colab": {
          "base_uri": "https://localhost:8080/"
        },
        "id": "EalbcKfzDeVN",
        "outputId": "6489c0e5-b221-49c5-ddd5-cdaad772cead"
      },
      "outputs": [
        {
          "name": "stdout",
          "output_type": "stream",
          "text": [
            "(50441, 352129)\n"
          ]
        }
      ],
      "source": [
        "pos_tag = selection(pos_tag)\n",
        "print(pos_tag.shape)\n"
      ]
    },
    {
      "cell_type": "markdown",
      "metadata": {
        "id": "-yjkyJnJvI1v"
      },
      "source": [
        "# 5. CLASSIFICATION"
      ]
    },
    {
      "cell_type": "markdown",
      "metadata": {
        "id": "Ugcp9MuY2Gx_"
      },
      "source": [
        "# 5.1. SVM"
      ]
    },
    {
      "cell_type": "markdown",
      "metadata": {
        "id": "xCoHd8BDuAGO"
      },
      "source": []
    },
    {
      "cell_type": "code",
      "execution_count": 98,
      "metadata": {
        "id": "P8N9uGOdFFTR"
      },
      "outputs": [],
      "source": [
        "from sklearn.model_selection import GridSearchCV\n",
        "from sklearn import svm\n",
        "from sklearn import model_selection, svm\n",
        "from sklearn.metrics import f1_score, precision_score, precision_recall_fscore_support, ConfusionMatrixDisplay, confusion_matrix, classification_report\n",
        "import matplotlib.pyplot as plt\n"
      ]
    },
    {
      "cell_type": "markdown",
      "metadata": {
        "id": "4K701ik0lJSt"
      },
      "source": [
        "## 5.0.1 HYPERPARAMETER"
      ]
    },
    {
      "cell_type": "code",
      "execution_count": 16,
      "metadata": {
        "id": "K9CwS0ntr_tb"
      },
      "outputs": [],
      "source": [
        "X_train, X_test, y_train, y_test = model_selection.train_test_split(tfidf, df['Score'].values, test_size=0.3, shuffle=True)\n",
        "parameters = {'kernel':('linear',\n",
        "'rbf'),\n",
        "'C':[1, 10],\n",
        "'gamma': [0.0001, 0.0005, 0.001,\n",
        "0.005, 0.01, 0.1]}\n",
        "svc = svm.SVC()\n",
        "clf = GridSearchCV(svc, parameters)\n",
        "results = clf.fit(X_train, y_train)\n",
        "print(results.best_score_, results.best_params_)"
      ]
    },
    {
      "cell_type": "markdown",
      "metadata": {
        "id": "5L7IEsR72Qvv"
      },
      "source": [
        "## 5.1.1. TDIDF"
      ]
    },
    {
      "cell_type": "code",
      "execution_count": 43,
      "metadata": {
        "colab": {
          "base_uri": "https://localhost:8080/",
          "height": 505
        },
        "id": "TFJNy-2cvMvz",
        "outputId": "16d992ce-6e0e-4af0-9956-9acd774e96bd"
      },
      "outputs": [
        {
          "name": "stdout",
          "output_type": "stream",
          "text": [
            "              precision    recall  f1-score   support\n",
            "\n",
            "           1       0.65      0.69      0.67      1453\n",
            "           2       0.43      0.29      0.35       809\n",
            "           3       0.48      0.37      0.42      1204\n",
            "           4       0.52      0.27      0.35      2114\n",
            "           5       0.83      0.95      0.88      9553\n",
            "\n",
            "    accuracy                           0.75     15133\n",
            "   macro avg       0.58      0.51      0.54     15133\n",
            "weighted avg       0.72      0.75      0.72     15133\n",
            "\n"
          ]
        },
        {
          "data": {
            "text/plain": [
              "<sklearn.metrics._plot.confusion_matrix.ConfusionMatrixDisplay at 0x7f6b2a8b8c10>"
            ]
          },
          "execution_count": 43,
          "metadata": {},
          "output_type": "execute_result"
        },
        {
          "data": {
            "image/png": "[encoded data removed]",
            "text/plain": [
              "<Figure size 432x288 with 2 Axes>"
            ]
          },
          "metadata": {
            "needs_background": "light"
          },
          "output_type": "display_data"
        }
      ],
      "source": [
        "X_train, X_test, y_train, y_test = model_selection.train_test_split(tfidf, (df['Score'].values), test_size=0.3, shuffle=True)\n",
        "\n",
        "SVM = svm.SVC(C= 10, gamma= 0.1, kernel= 'rbf')\n",
        "\n",
        "# Training\n",
        "SVM.fit(X_train, y_train)\n",
        "\n",
        "# Prediction\n",
        "result = SVM.predict(X_test)\n",
        "\n",
        "print(classification_report(y_test, result, labels=[1,2,3,4,5]))\n",
        "cm = confusion_matrix(y_test, result, labels=[1,2,3,4,5])\n",
        "disp = ConfusionMatrixDisplay(confusion_matrix=cm, display_labels=[\"1\",\"2\",\"3\",\"4\",\"5\"])\n",
        "disp.plot()"
      ]
    },
    {
      "cell_type": "markdown",
      "metadata": {
        "id": "I-qBnmjDJP2x"
      },
      "source": [
        "### 5.1.2. NGRAM"
      ]
    },
    {
      "cell_type": "code",
      "execution_count": 44,
      "metadata": {
        "colab": {
          "base_uri": "https://localhost:8080/",
          "height": 505
        },
        "id": "IUZw1QBg3L6s",
        "outputId": "987356a4-9450-44a8-b51a-eab945db0724"
      },
      "outputs": [
        {
          "name": "stdout",
          "output_type": "stream",
          "text": [
            "              precision    recall  f1-score   support\n",
            "\n",
            "           1       0.69      0.80      0.74      1387\n",
            "           2       0.68      0.36      0.47       857\n",
            "           3       0.64      0.59      0.61      1251\n",
            "           4       0.78      0.70      0.74      2181\n",
            "           5       0.95      1.00      0.97      9457\n",
            "\n",
            "    accuracy                           0.87     15133\n",
            "   macro avg       0.75      0.69      0.71     15133\n",
            "weighted avg       0.86      0.87      0.86     15133\n",
            "\n"
          ]
        },
        {
          "data": {
            "text/plain": [
              "<sklearn.metrics._plot.confusion_matrix.ConfusionMatrixDisplay at 0x7f6b25b7c1c0>"
            ]
          },
          "execution_count": 44,
          "metadata": {},
          "output_type": "execute_result"
        },
        {
          "data": {
            "image/png": "[encoded data removed]",
            "text/plain": [
              "<Figure size 432x288 with 2 Axes>"
            ]
          },
          "metadata": {
            "needs_background": "light"
          },
          "output_type": "display_data"
        }
      ],
      "source": [
        "X_train, X_test, y_train, y_test = model_selection.train_test_split(ngram, df['Score'].values, test_size=0.3, shuffle=True)\n",
        "\n",
        "SVM = svm.SVC(C= 10, gamma= 0.1, kernel= 'rbf')\n",
        "\n",
        "# Training\n",
        "SVM.fit(X_train, y_train)\n",
        "\n",
        "# Prediction\n",
        "result = SVM.predict(X_test)\n",
        "\n",
        "print(classification_report(y_test, result, labels=[1,2,3,4,5]))\n",
        "cm = confusion_matrix(y_test, result, labels=[1,2,3,4,5])\n",
        "disp = ConfusionMatrixDisplay(confusion_matrix=cm, display_labels=[\"1\",\"2\",\"3\",\"4\",\"5\"])\n",
        "disp.plot()"
      ]
    },
    {
      "cell_type": "markdown",
      "metadata": {
        "id": "ANhj6si-JTnp"
      },
      "source": [
        "### 5.1.3. Pos Tagging"
      ]
    },
    {
      "cell_type": "code",
      "execution_count": 84,
      "metadata": {
        "colab": {
          "base_uri": "https://localhost:8080/",
          "height": 505
        },
        "id": "TnbFj3x1JIEL",
        "outputId": "9471fa28-6964-4bf0-fc55-4769dbfb32a2"
      },
      "outputs": [
        {
          "name": "stdout",
          "output_type": "stream",
          "text": [
            "              precision    recall  f1-score   support\n",
            "\n",
            "           1       0.70      0.77      0.73      1430\n",
            "           2       0.56      0.36      0.44       801\n",
            "           3       0.59      0.48      0.53      1205\n",
            "           4       0.66      0.57      0.61      2147\n",
            "           5       0.92      0.98      0.95      9550\n",
            "\n",
            "    accuracy                           0.83     15133\n",
            "   macro avg       0.68      0.63      0.65     15133\n",
            "weighted avg       0.81      0.83      0.82     15133\n",
            "\n"
          ]
        },
        {
          "data": {
            "text/plain": [
              "<sklearn.metrics._plot.confusion_matrix.ConfusionMatrixDisplay at 0x7f6b2a3cfc10>"
            ]
          },
          "execution_count": 84,
          "metadata": {},
          "output_type": "execute_result"
        },
        {
          "data": {
            "image/png": "[encoded data removed]",
            "text/plain": [
              "<Figure size 432x288 with 2 Axes>"
            ]
          },
          "metadata": {
            "needs_background": "light"
          },
          "output_type": "display_data"
        }
      ],
      "source": [
        "X_train, X_test, y_train, y_test = model_selection.train_test_split(pos_tag, df['Score'].values, test_size=0.3, shuffle=True)\n",
        "\n",
        "SVM = svm.SVC(C= 10, gamma= 0.1, kernel= 'rbf')\n",
        "\n",
        "# Training\n",
        "SVM.fit(X_train, y_train)\n",
        "\n",
        "# Prediction\n",
        "result = SVM.predict(X_test)\n",
        "\n",
        "print(classification_report(y_test, result, labels=[1,2,3,4,5]))\n",
        "cm = confusion_matrix(y_test, result, labels=[1,2,3,4,5])\n",
        "disp = ConfusionMatrixDisplay(confusion_matrix=cm, display_labels=[\"1\",\"2\",\"3\",\"4\",\"5\"])\n",
        "disp.plot()"
      ]
    },
    {
      "cell_type": "code",
      "execution_count": 100,
      "metadata": {
        "colab": {
          "base_uri": "https://localhost:8080/",
          "height": 711
        },
        "id": "mTLefInPZ5Hd",
        "outputId": "1f8fa0b2-0ca7-4c60-99b4-357e1a5063ef"
      },
      "outputs": [
        {
          "data": {
            "text/html": [
              "\n",
              "  <div id=\"df-8dca4c6e-802f-436d-9877-234b3f1b45af\">\n",
              "    <div class=\"colab-df-container\">\n",
              "      <div>\n",
              "<style scoped>\n",
              "    .dataframe tbody tr th:only-of-type {\n",
              "        vertical-align: middle;\n",
              "    }\n",
              "\n",
              "    .dataframe tbody tr th {\n",
              "        vertical-align: top;\n",
              "    }\n",
              "\n",
              "    .dataframe thead th {\n",
              "        text-align: right;\n",
              "    }\n",
              "</style>\n",
              "<table border=\"1\" class=\"dataframe\">\n",
              "  <thead>\n",
              "    <tr style=\"text-align: right;\">\n",
              "      <th></th>\n",
              "      <th>Id</th>\n",
              "      <th>ProductId</th>\n",
              "      <th>UserId</th>\n",
              "      <th>ProfileName</th>\n",
              "      <th>HelpfulnessNumerator</th>\n",
              "      <th>HelpfulnessDenominator</th>\n",
              "      <th>Score</th>\n",
              "      <th>Time</th>\n",
              "      <th>Summary</th>\n",
              "      <th>Text</th>\n",
              "      <th>Summary+Text</th>\n",
              "      <th>tokens</th>\n",
              "      <th>post_tag</th>\n",
              "    </tr>\n",
              "  </thead>\n",
              "  <tbody>\n",
              "    <tr>\n",
              "      <th>0</th>\n",
              "      <td>1</td>\n",
              "      <td>b001e4kfg0</td>\n",
              "      <td>a3sgxh7auhu8gw</td>\n",
              "      <td>delmartian</td>\n",
              "      <td>1.0</td>\n",
              "      <td>1.0</td>\n",
              "      <td>5.0</td>\n",
              "      <td>1.303862e+09</td>\n",
              "      <td>good quality dog food</td>\n",
              "      <td>i have bought several of the vitality canned d...</td>\n",
              "      <td>good quality dog food i have buy several of th...</td>\n",
              "      <td>[good, quality, dog, food, i, have, buy, sever...</td>\n",
              "      <td>good:JJ quality:NN dog:NN food:NN i:NN have:V...</td>\n",
              "    </tr>\n",
              "    <tr>\n",
              "      <th>1</th>\n",
              "      <td>2</td>\n",
              "      <td>b00813grg4</td>\n",
              "      <td>a1d87f6zcve5nk</td>\n",
              "      <td>dll pa</td>\n",
              "      <td>0.0</td>\n",
              "      <td>0.0</td>\n",
              "      <td>1.0</td>\n",
              "      <td>1.346976e+09</td>\n",
              "      <td>not as advertised</td>\n",
              "      <td>product arrived labeled as jumbo salted peanut...</td>\n",
              "      <td>not as advertise product arrive label as jumbo...</td>\n",
              "      <td>[not, as, advertise, product, arrive, label, a...</td>\n",
              "      <td>not:RB as:IN advertise:NN product:NN arrive:J...</td>\n",
              "    </tr>\n",
              "    <tr>\n",
              "      <th>2</th>\n",
              "      <td>3</td>\n",
              "      <td>b000lqoch0</td>\n",
              "      <td>abxlmwjixxain</td>\n",
              "      <td>natalia corres \"natalia corres\"</td>\n",
              "      <td>1.0</td>\n",
              "      <td>1.0</td>\n",
              "      <td>4.0</td>\n",
              "      <td>1.219018e+09</td>\n",
              "      <td>\"delight\" says it all</td>\n",
              "      <td>this is a confection that has been around a fe...</td>\n",
              "      <td>\"delight\" say it all this be a confection that...</td>\n",
              "      <td>[``, delight, '', say, it, all, this, be, a, c...</td>\n",
              "      <td>``:`` delight:NN '':'' say:VBP it:PRP all:PDT...</td>\n",
              "    </tr>\n",
              "    <tr>\n",
              "      <th>3</th>\n",
              "      <td>4</td>\n",
              "      <td>b000ua0qiq</td>\n",
              "      <td>a395borc6fgvxv</td>\n",
              "      <td>karl</td>\n",
              "      <td>3.0</td>\n",
              "      <td>3.0</td>\n",
              "      <td>2.0</td>\n",
              "      <td>1.307923e+09</td>\n",
              "      <td>cough medicine</td>\n",
              "      <td>if you are looking for the secret ingredient i...</td>\n",
              "      <td>cough medicine if you be look for the secret i...</td>\n",
              "      <td>[cough, medicine, if, you, be, look, for, the,...</td>\n",
              "      <td>cough:NN medicine:NN if:IN you:PRP be:VB look...</td>\n",
              "    </tr>\n",
              "    <tr>\n",
              "      <th>4</th>\n",
              "      <td>5</td>\n",
              "      <td>b006k2zz7k</td>\n",
              "      <td>a1uqrsclf8gw1t</td>\n",
              "      <td>michael d. bigham \"m. wassir\"</td>\n",
              "      <td>0.0</td>\n",
              "      <td>0.0</td>\n",
              "      <td>5.0</td>\n",
              "      <td>1.350778e+09</td>\n",
              "      <td>great taffy</td>\n",
              "      <td>great taffy at a great price.  there was a wid...</td>\n",
              "      <td>great taffy great taffy at a great price. ther...</td>\n",
              "      <td>[great, taffy, great, taffy, at, a, great, pri...</td>\n",
              "      <td>great:JJ taffy:JJ great:JJ taffy:NN at:IN a:D...</td>\n",
              "    </tr>\n",
              "    <tr>\n",
              "      <th>...</th>\n",
              "      <td>...</td>\n",
              "      <td>...</td>\n",
              "      <td>...</td>\n",
              "      <td>...</td>\n",
              "      <td>...</td>\n",
              "      <td>...</td>\n",
              "      <td>...</td>\n",
              "      <td>...</td>\n",
              "      <td>...</td>\n",
              "      <td>...</td>\n",
              "      <td>...</td>\n",
              "      <td>...</td>\n",
              "      <td>...</td>\n",
              "    </tr>\n",
              "    <tr>\n",
              "      <th>50803</th>\n",
              "      <td>50818</td>\n",
              "      <td>b003e75y5c</td>\n",
              "      <td>aaj13sjo99h9k</td>\n",
              "      <td>dr2</td>\n",
              "      <td>0.0</td>\n",
              "      <td>0.0</td>\n",
              "      <td>5.0</td>\n",
              "      <td>1.342138e+09</td>\n",
              "      <td>love love love this food.</td>\n",
              "      <td>my persian loves this food and it's not all ov...</td>\n",
              "      <td>love love love this food. my persian love this...</td>\n",
              "      <td>[love, love, love, this, food, ., my, persian,...</td>\n",
              "      <td>love:VB love:NN love:NN this:DT food:NN .:. m...</td>\n",
              "    </tr>\n",
              "    <tr>\n",
              "      <th>50804</th>\n",
              "      <td>50819</td>\n",
              "      <td>b003e75y5c</td>\n",
              "      <td>a5dhs3eqlctxq</td>\n",
              "      <td>grannaof4</td>\n",
              "      <td>0.0</td>\n",
              "      <td>0.0</td>\n",
              "      <td>5.0</td>\n",
              "      <td>1.342051e+09</td>\n",
              "      <td>cats love it</td>\n",
              "      <td>my persian gavin plus the non-persian ellie bo...</td>\n",
              "      <td>cat love it my persian gavin plus the non-pers...</td>\n",
              "      <td>[cat, love, it, my, persian, gavin, plus, the,...</td>\n",
              "      <td>cat:NN love:VB it:PRP my:PRP$ persian:JJ gavi...</td>\n",
              "    </tr>\n",
              "    <tr>\n",
              "      <th>50805</th>\n",
              "      <td>50820</td>\n",
              "      <td>b0052y3zi8</td>\n",
              "      <td>a1ymjxuontrbez</td>\n",
              "      <td>sarah</td>\n",
              "      <td>0.0</td>\n",
              "      <td>0.0</td>\n",
              "      <td>5.0</td>\n",
              "      <td>1.322179e+09</td>\n",
              "      <td>fruit snacks</td>\n",
              "      <td>i used to get these with my lunch at school ev...</td>\n",
              "      <td>fruit snack i use to get these with my lunch a...</td>\n",
              "      <td>[fruit, snack, i, use, to, get, these, with, m...</td>\n",
              "      <td>fruit:NN snack:NN i:NN use:VBP to:TO get:VB t...</td>\n",
              "    </tr>\n",
              "    <tr>\n",
              "      <th>50806</th>\n",
              "      <td>50821</td>\n",
              "      <td>b0000di0gg</td>\n",
              "      <td>a3ajgub55sn4hp</td>\n",
              "      <td>paulette stanley \"ecogeeko\"</td>\n",
              "      <td>2.0</td>\n",
              "      <td>3.0</td>\n",
              "      <td>5.0</td>\n",
              "      <td>1.247530e+09</td>\n",
              "      <td>...sweet dreams...</td>\n",
              "      <td>...indeed, this syrup has a wonderful smooth t...</td>\n",
              "      <td>...sweet dreams... ...indeed, this syrup have ...</td>\n",
              "      <td>[..., sweet, dreams, ..., ..., indeed, ,, this...</td>\n",
              "      <td>...:: sweet:NN dreams:NNS ...:: ...:: indeed:...</td>\n",
              "    </tr>\n",
              "    <tr>\n",
              "      <th>50807</th>\n",
              "      <td>50822</td>\n",
              "      <td>b001izbew4</td>\n",
              "      <td>a41jjkn4mdwd8</td>\n",
              "      <td>d. ponder \"new mom\"</td>\n",
              "      <td>0.0</td>\n",
              "      <td>0.0</td>\n",
              "      <td>5.0</td>\n",
              "      <td>1.326758e+09</td>\n",
              "      <td>great value</td>\n",
              "      <td>we had been buying velveeta shells  cheese in ...</td>\n",
              "      <td>great value we have be buy velveeta shell  che...</td>\n",
              "      <td>[great, value, we, have, be, buy, velveeta, sh...</td>\n",
              "      <td>great:JJ value:NN we:PRP have:VBP be:VB buy:V...</td>\n",
              "    </tr>\n",
              "  </tbody>\n",
              "</table>\n",
              "<p>50441 rows × 13 columns</p>\n",
              "</div>\n",
              "      <button class=\"colab-df-convert\" onclick=\"convertToInteractive('df-8dca4c6e-802f-436d-9877-234b3f1b45af')\"\n",
              "              title=\"Convert this dataframe to an interactive table.\"\n",
              "              style=\"display:none;\">\n",
              "        \n",
              "  <svg xmlns=\"http://www.w3.org/2000/svg\" height=\"24px\"viewBox=\"0 0 24 24\"\n",
              "       width=\"24px\">\n",
              "    <path d=\"M0 0h24v24H0V0z\" fill=\"none\"/>\n",
              "    <path d=\"M18.56 5.44l.94 2.06.94-2.06 2.06-.94-2.06-.94-.94-2.06-.94 2.06-2.06.94zm-11 1L8.5 8.5l.94-2.06 2.06-.94-2.06-.94L8.5 2.5l-.94 2.06-2.06.94zm10 10l.94 2.06.94-2.06 2.06-.94-2.06-.94-.94-2.06-.94 2.06-2.06.94z\"/><path d=\"M17.41 7.96l-1.37-1.37c-.4-.4-.92-.59-1.43-.59-.52 0-1.04.2-1.43.59L10.3 9.45l-7.72 7.72c-.78.78-.78 2.05 0 2.83L4 21.41c.39.39.9.59 1.41.59.51 0 1.02-.2 1.41-.59l7.78-7.78 2.81-2.81c.8-.78.8-2.07 0-2.86zM5.41 20L4 18.59l7.72-7.72 1.47 1.35L5.41 20z\"/>\n",
              "  </svg>\n",
              "      </button>\n",
              "      \n",
              "  <style>\n",
              "    .colab-df-container {\n",
              "      display:flex;\n",
              "      flex-wrap:wrap;\n",
              "      gap: 12px;\n",
              "    }\n",
              "\n",
              "    .colab-df-convert {\n",
              "      background-color: #E8F0FE;\n",
              "      border: none;\n",
              "      border-radius: 50%;\n",
              "      cursor: pointer;\n",
              "      display: none;\n",
              "      fill: #1967D2;\n",
              "      height: 32px;\n",
              "      padding: 0 0 0 0;\n",
              "      width: 32px;\n",
              "    }\n",
              "\n",
              "    .colab-df-convert:hover {\n",
              "      background-color: #E2EBFA;\n",
              "      box-shadow: 0px 1px 2px rgba(60, 64, 67, 0.3), 0px 1px 3px 1px rgba(60, 64, 67, 0.15);\n",
              "      fill: #174EA6;\n",
              "    }\n",
              "\n",
              "    [theme=dark] .colab-df-convert {\n",
              "      background-color: #3B4455;\n",
              "      fill: #D2E3FC;\n",
              "    }\n",
              "\n",
              "    [theme=dark] .colab-df-convert:hover {\n",
              "      background-color: #434B5C;\n",
              "      box-shadow: 0px 1px 3px 1px rgba(0, 0, 0, 0.15);\n",
              "      filter: drop-shadow(0px 1px 2px rgba(0, 0, 0, 0.3));\n",
              "      fill: #FFFFFF;\n",
              "    }\n",
              "  </style>\n",
              "\n",
              "      <script>\n",
              "        const buttonEl =\n",
              "          document.querySelector('#df-8dca4c6e-802f-436d-9877-234b3f1b45af button.colab-df-convert');\n",
              "        buttonEl.style.display =\n",
              "          google.colab.kernel.accessAllowed ? 'block' : 'none';\n",
              "\n",
              "        async function convertToInteractive(key) {\n",
              "          const element = document.querySelector('#df-8dca4c6e-802f-436d-9877-234b3f1b45af');\n",
              "          const dataTable =\n",
              "            await google.colab.kernel.invokeFunction('convertToInteractive',\n",
              "                                                     [key], {});\n",
              "          if (!dataTable) return;\n",
              "\n",
              "          const docLinkHtml = 'Like what you see? Visit the ' +\n",
              "            '<a target=\"_blank\" href=https://colab.research.google.com/notebooks/data_table.ipynb>data table notebook</a>'\n",
              "            + ' to learn more about interactive tables.';\n",
              "          element.innerHTML = '';\n",
              "          dataTable['output_type'] = 'display_data';\n",
              "          await google.colab.output.renderOutput(dataTable, element);\n",
              "          const docLink = document.createElement('div');\n",
              "          docLink.innerHTML = docLinkHtml;\n",
              "          element.appendChild(docLink);\n",
              "        }\n",
              "      </script>\n",
              "    </div>\n",
              "  </div>\n",
              "  "
            ],
            "text/plain": [
              "          Id   ProductId          UserId                      ProfileName  \\\n",
              "0          1  b001e4kfg0  a3sgxh7auhu8gw                       delmartian   \n",
              "1          2  b00813grg4  a1d87f6zcve5nk                           dll pa   \n",
              "2          3  b000lqoch0   abxlmwjixxain  natalia corres \"natalia corres\"   \n",
              "3          4  b000ua0qiq  a395borc6fgvxv                             karl   \n",
              "4          5  b006k2zz7k  a1uqrsclf8gw1t    michael d. bigham \"m. wassir\"   \n",
              "...      ...         ...             ...                              ...   \n",
              "50803  50818  b003e75y5c   aaj13sjo99h9k                              dr2   \n",
              "50804  50819  b003e75y5c   a5dhs3eqlctxq                        grannaof4   \n",
              "50805  50820  b0052y3zi8  a1ymjxuontrbez                            sarah   \n",
              "50806  50821  b0000di0gg  a3ajgub55sn4hp      paulette stanley \"ecogeeko\"   \n",
              "50807  50822  b001izbew4   a41jjkn4mdwd8              d. ponder \"new mom\"   \n",
              "\n",
              "       HelpfulnessNumerator  HelpfulnessDenominator  Score          Time  \\\n",
              "0                       1.0                     1.0    5.0  1.303862e+09   \n",
              "1                       0.0                     0.0    1.0  1.346976e+09   \n",
              "2                       1.0                     1.0    4.0  1.219018e+09   \n",
              "3                       3.0                     3.0    2.0  1.307923e+09   \n",
              "4                       0.0                     0.0    5.0  1.350778e+09   \n",
              "...                     ...                     ...    ...           ...   \n",
              "50803                   0.0                     0.0    5.0  1.342138e+09   \n",
              "50804                   0.0                     0.0    5.0  1.342051e+09   \n",
              "50805                   0.0                     0.0    5.0  1.322179e+09   \n",
              "50806                   2.0                     3.0    5.0  1.247530e+09   \n",
              "50807                   0.0                     0.0    5.0  1.326758e+09   \n",
              "\n",
              "                         Summary  \\\n",
              "0          good quality dog food   \n",
              "1              not as advertised   \n",
              "2          \"delight\" says it all   \n",
              "3                 cough medicine   \n",
              "4                    great taffy   \n",
              "...                          ...   \n",
              "50803  love love love this food.   \n",
              "50804               cats love it   \n",
              "50805               fruit snacks   \n",
              "50806         ...sweet dreams...   \n",
              "50807                great value   \n",
              "\n",
              "                                                    Text  \\\n",
              "0      i have bought several of the vitality canned d...   \n",
              "1      product arrived labeled as jumbo salted peanut...   \n",
              "2      this is a confection that has been around a fe...   \n",
              "3      if you are looking for the secret ingredient i...   \n",
              "4      great taffy at a great price.  there was a wid...   \n",
              "...                                                  ...   \n",
              "50803  my persian loves this food and it's not all ov...   \n",
              "50804  my persian gavin plus the non-persian ellie bo...   \n",
              "50805  i used to get these with my lunch at school ev...   \n",
              "50806  ...indeed, this syrup has a wonderful smooth t...   \n",
              "50807  we had been buying velveeta shells  cheese in ...   \n",
              "\n",
              "                                            Summary+Text  \\\n",
              "0      good quality dog food i have buy several of th...   \n",
              "1      not as advertise product arrive label as jumbo...   \n",
              "2      \"delight\" say it all this be a confection that...   \n",
              "3      cough medicine if you be look for the secret i...   \n",
              "4      great taffy great taffy at a great price. ther...   \n",
              "...                                                  ...   \n",
              "50803  love love love this food. my persian love this...   \n",
              "50804  cat love it my persian gavin plus the non-pers...   \n",
              "50805  fruit snack i use to get these with my lunch a...   \n",
              "50806  ...sweet dreams... ...indeed, this syrup have ...   \n",
              "50807  great value we have be buy velveeta shell  che...   \n",
              "\n",
              "                                                  tokens  \\\n",
              "0      [good, quality, dog, food, i, have, buy, sever...   \n",
              "1      [not, as, advertise, product, arrive, label, a...   \n",
              "2      [``, delight, '', say, it, all, this, be, a, c...   \n",
              "3      [cough, medicine, if, you, be, look, for, the,...   \n",
              "4      [great, taffy, great, taffy, at, a, great, pri...   \n",
              "...                                                  ...   \n",
              "50803  [love, love, love, this, food, ., my, persian,...   \n",
              "50804  [cat, love, it, my, persian, gavin, plus, the,...   \n",
              "50805  [fruit, snack, i, use, to, get, these, with, m...   \n",
              "50806  [..., sweet, dreams, ..., ..., indeed, ,, this...   \n",
              "50807  [great, value, we, have, be, buy, velveeta, sh...   \n",
              "\n",
              "                                                post_tag  \n",
              "0       good:JJ quality:NN dog:NN food:NN i:NN have:V...  \n",
              "1       not:RB as:IN advertise:NN product:NN arrive:J...  \n",
              "2       ``:`` delight:NN '':'' say:VBP it:PRP all:PDT...  \n",
              "3       cough:NN medicine:NN if:IN you:PRP be:VB look...  \n",
              "4       great:JJ taffy:JJ great:JJ taffy:NN at:IN a:D...  \n",
              "...                                                  ...  \n",
              "50803   love:VB love:NN love:NN this:DT food:NN .:. m...  \n",
              "50804   cat:NN love:VB it:PRP my:PRP$ persian:JJ gavi...  \n",
              "50805   fruit:NN snack:NN i:NN use:VBP to:TO get:VB t...  \n",
              "50806   ...:: sweet:NN dreams:NNS ...:: ...:: indeed:...  \n",
              "50807   great:JJ value:NN we:PRP have:VBP be:VB buy:V...  \n",
              "\n",
              "[50441 rows x 13 columns]"
            ]
          },
          "execution_count": 100,
          "metadata": {},
          "output_type": "execute_result"
        }
      ],
      "source": [
        "df"
      ]
    }
  ],
  "metadata": {
    "colab": {
      "provenance": []
    },
    "kernelspec": {
      "display_name": "Python 3",
      "name": "python3"
    },
    "language_info": {
      "name": "python"
    }
  },
  "nbformat": 4,
  "nbformat_minor": 0
}
